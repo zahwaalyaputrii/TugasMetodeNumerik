ZAHWA ALYA PUTRI - 140710230003

# TUGAS 1 

Tulis text berikut, menggunakan vim, simpan dalam file bernama paulo.txt:  
	
**For every sunset, there is a sunrise;**  
**for every dream that ends, one is born;**  
**for every door that closes, another one opens;**  
**for every love that ends there is a new beginning;**  
**for every departure there is an arrival;**  
**for every defeat there is a victory.**  
  
**Nothing is ever finished, as long as there is life.**  
  
Jelaskan bagaimana mengerjakan hal-hal berikut dengan menggunakan awk dan perintah shell lain.  

1. Menghitung baris, kata, dan karakter yang terdapat dalam teks.  
2. Menemukan baris-baris yang mengandung token teks tertentu, misalnya: ‘love’ ‘victory’, ‘dream’, dan lain-lain.  
3. Mengganti bagian dari teks dalam baris, misalnya ‘every’ dengan ‘each’.  
4. Menghitung kata dan huruf per baris.  

**Jawab :**    
Langkah pertama untuk membuat ke-4 hal diatas adalah sebagai berikut :  
1. Membuka command promt Ubuntu  
2. Membuat directory atau folder untuk tugas ini dengan memberikan perintah ```mkdir metodenumerik``` kemudian *change directory* dengan perintah ```cd metodenumerik```.  
3. Install VIM jika belum ada dengan perintah ```sudo apt install vim```  
4. Setelah itu berikan perintah kode sumber dengan format vim namafile.typefile seperti ```vim paulo.txt```.  
5. Setelah itu copy dan paste kalimat diatas pada windows vim dengan menekan tombol i untuk insert, jika ingin menyimpan tekan esc --> shift+w, dan shift+q untuk keluar.  

## Menghitung Baris, kata, dan karakter yang terdapat dalam teks   
Kode berikut menggunakan AWK untuk menghitung jumlah baris, kata, dan karakter dalam file *paulo.txt*.  
```awk '{chars += length($0) + 1; words += NF; lines++} END {print "Baris:", lines, "Kata:", words, "Karakter:", chars}' paulo.txt```  
 Dimana :  
 1. *length($0) + 1* : untuk menghitung jumlah karakter dalam setiap baris termasuk newline.  
 2. *NF* : untuk menghitung jumlah kata dalam setiap baris.
 3. *lines++* : untuk menambah jumlah baris.
 4. *END {print "Baris:", lines, "Kata:", words, "Karakter:", chars}' paulo.txt* : untuk mencetak hasil setelah semua baris diproses dalam file paulo.txt.

## Menemukan baris-baris yang mengandung token teks tertentu, misalnya: ‘love’ ‘victory’, ‘dream’, dan 'for'  
Kode berikut menggunakan AWK untuk menemukan baris-baris yang mengandung token teks tertentu, misalnya: ‘love’ ‘victory’, ‘dream’, dan 'for' dalam file *paulo.txt*.  
```awk "/\<(love|victory|dream)\>/" paulo.txt```  
Dimana :  
1. 
